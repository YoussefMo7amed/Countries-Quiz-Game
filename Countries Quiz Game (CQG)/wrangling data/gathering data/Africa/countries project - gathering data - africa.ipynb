{
 "cells": [
  {
   "cell_type": "code",
   "execution_count": 1,
   "metadata": {},
   "outputs": [],
   "source": [
    "import os\n",
    "import requests as req\n",
    "import pandas as pd\n",
    "import numpy as np\n",
    "from bs4 import BeautifulSoup as bs"
   ]
  },
  {
   "cell_type": "code",
   "execution_count": 2,
   "metadata": {},
   "outputs": [
    {
     "data": {
      "text/plain": [
       "<Response [200]>"
      ]
     },
     "execution_count": 2,
     "metadata": {},
     "output_type": "execute_result"
    }
   ],
   "source": [
    "africa_url = 'https://affairscloud.com/africa-continent-countries-capitals-currency-language/'\n",
    "res = req.get(africa_url)\n",
    "res"
   ]
  },
  {
   "cell_type": "code",
   "execution_count": 3,
   "metadata": {},
   "outputs": [],
   "source": [
    "with open(os.path.join('Africa.html'), mode = 'wb') as file:\n",
    "    file.write(res.content)"
   ]
  },
  {
   "cell_type": "code",
   "execution_count": 4,
   "metadata": {},
   "outputs": [
    {
     "data": {
      "text/plain": [
       "['.ipynb_checkpoints',\n",
       " 'africa.csv',\n",
       " 'africa_html',\n",
       " 'Africa.html',\n",
       " 'countries project - gathering data - africa.ipynb']"
      ]
     },
     "execution_count": 4,
     "metadata": {},
     "output_type": "execute_result"
    }
   ],
   "source": [
    "os.listdir()"
   ]
  },
  {
   "cell_type": "markdown",
   "metadata": {},
   "source": [
    "## take headers "
   ]
  },
  {
   "cell_type": "code",
   "execution_count": 5,
   "metadata": {},
   "outputs": [
    {
     "data": {
      "text/html": [
       "<div>\n",
       "<style scoped>\n",
       "    .dataframe tbody tr th:only-of-type {\n",
       "        vertical-align: middle;\n",
       "    }\n",
       "\n",
       "    .dataframe tbody tr th {\n",
       "        vertical-align: top;\n",
       "    }\n",
       "\n",
       "    .dataframe thead th {\n",
       "        text-align: right;\n",
       "    }\n",
       "</style>\n",
       "<table border=\"1\" class=\"dataframe\">\n",
       "  <thead>\n",
       "    <tr style=\"text-align: right;\">\n",
       "      <th></th>\n",
       "      <th>Country</th>\n",
       "      <th>Capital</th>\n",
       "      <th>Currency</th>\n",
       "      <th>Language</th>\n",
       "    </tr>\n",
       "  </thead>\n",
       "  <tbody>\n",
       "  </tbody>\n",
       "</table>\n",
       "</div>"
      ],
      "text/plain": [
       "Empty DataFrame\n",
       "Columns: [Country, Capital, Currency, Language]\n",
       "Index: []"
      ]
     },
     "execution_count": 5,
     "metadata": {},
     "output_type": "execute_result"
    }
   ],
   "source": [
    "df = pd.DataFrame()\n",
    "ls = []\n",
    "with open('africa.html') as file:\n",
    "    soup = bs(file,'lxml')\n",
    "    table = soup.find('tbody')\n",
    "    headers = table.find_all('th')\n",
    "    for h in range(0,len(headers)):\n",
    "        ls.append(str(headers[h])[4:-5])\n",
    "df = pd.DataFrame(columns = ls)\n",
    "df"
   ]
  },
  {
   "cell_type": "markdown",
   "metadata": {},
   "source": [
    "## take rows "
   ]
  },
  {
   "cell_type": "code",
   "execution_count": 6,
   "metadata": {},
   "outputs": [],
   "source": [
    "ls = []\n",
    "df_col = df.columns\n",
    "with open('A') as file:\n",
    "    soup = bs(file,'lxml')\n",
    "    table = soup.find('table')\n",
    "    rows = table.find_all('tr')\n",
    "    for i in range(1,len(rows)):\n",
    "        row = rows[i].find_all('td')\n",
    "        ls = []\n",
    "        for value in row:\n",
    "            s = str(value)[4:-5]\n",
    "            s = s.replace('<br/>', ', ')\n",
    "            s = s.replace('\\n', '')\n",
    "            ls.append(str(s))\n",
    "        df = df.append(dict(zip(df_col,ls)), ignore_index= True)"
   ]
  },
  {
   "cell_type": "markdown",
   "metadata": {},
   "source": [
    "## access data"
   ]
  },
  {
   "cell_type": "code",
   "execution_count": 7,
   "metadata": {},
   "outputs": [
    {
     "data": {
      "text/html": [
       "<div>\n",
       "<style scoped>\n",
       "    .dataframe tbody tr th:only-of-type {\n",
       "        vertical-align: middle;\n",
       "    }\n",
       "\n",
       "    .dataframe tbody tr th {\n",
       "        vertical-align: top;\n",
       "    }\n",
       "\n",
       "    .dataframe thead th {\n",
       "        text-align: right;\n",
       "    }\n",
       "</style>\n",
       "<table border=\"1\" class=\"dataframe\">\n",
       "  <thead>\n",
       "    <tr style=\"text-align: right;\">\n",
       "      <th></th>\n",
       "      <th>Country</th>\n",
       "      <th>Capital</th>\n",
       "      <th>Currency</th>\n",
       "      <th>Language</th>\n",
       "    </tr>\n",
       "  </thead>\n",
       "  <tbody>\n",
       "    <tr>\n",
       "      <th>0</th>\n",
       "      <td>Algeria</td>\n",
       "      <td>Agiers</td>\n",
       "      <td>Algerian dinar (DZD)</td>\n",
       "      <td>Arabic</td>\n",
       "    </tr>\n",
       "    <tr>\n",
       "      <th>1</th>\n",
       "      <td>Angola</td>\n",
       "      <td>Luanda</td>\n",
       "      <td>Kwanza(AOA)</td>\n",
       "      <td>Portuguese</td>\n",
       "    </tr>\n",
       "    <tr>\n",
       "      <th>2</th>\n",
       "      <td>Benin</td>\n",
       "      <td>Porto-Novo (official)</td>\n",
       "      <td>Eco</td>\n",
       "      <td>French</td>\n",
       "    </tr>\n",
       "    <tr>\n",
       "      <th>3</th>\n",
       "      <td>Botswana</td>\n",
       "      <td>Gaborone</td>\n",
       "      <td>Pula(BWP)</td>\n",
       "      <td>English, Setswana</td>\n",
       "    </tr>\n",
       "    <tr>\n",
       "      <th>4</th>\n",
       "      <td>Burkina Faso</td>\n",
       "      <td>Ouagadougou</td>\n",
       "      <td>Eco</td>\n",
       "      <td>French</td>\n",
       "    </tr>\n",
       "    <tr>\n",
       "      <th>5</th>\n",
       "      <td>Burundi</td>\n",
       "      <td>Bujumbura</td>\n",
       "      <td>Burundian franc(BIF)</td>\n",
       "      <td>Kirundi, French</td>\n",
       "    </tr>\n",
       "    <tr>\n",
       "      <th>6</th>\n",
       "      <td>Cameroon</td>\n",
       "      <td>Yaoundé</td>\n",
       "      <td>Central AfricanCFA franc(XAF)</td>\n",
       "      <td>French, English</td>\n",
       "    </tr>\n",
       "    <tr>\n",
       "      <th>7</th>\n",
       "      <td>Cape Verde</td>\n",
       "      <td>Praia</td>\n",
       "      <td>Cape Verdean escudo(CVE)</td>\n",
       "      <td>Portuguese</td>\n",
       "    </tr>\n",
       "    <tr>\n",
       "      <th>8</th>\n",
       "      <td>Central African Republic</td>\n",
       "      <td>Bangui</td>\n",
       "      <td>Central African CFA franc (XAF)</td>\n",
       "      <td>French, Sango</td>\n",
       "    </tr>\n",
       "    <tr>\n",
       "      <th>9</th>\n",
       "      <td>Chad</td>\n",
       "      <td>N’Djamena</td>\n",
       "      <td>Central African CFA franc(XAF)</td>\n",
       "      <td>French, Arabic</td>\n",
       "    </tr>\n",
       "    <tr>\n",
       "      <th>10</th>\n",
       "      <td>Comoros</td>\n",
       "      <td>Moroni</td>\n",
       "      <td>Comorian franc(KMF)</td>\n",
       "      <td>Comorian, Arabic, French</td>\n",
       "    </tr>\n",
       "    <tr>\n",
       "      <th>11</th>\n",
       "      <td>Congo (Congo-Brazzaville)</td>\n",
       "      <td>Brazzaville</td>\n",
       "      <td>Central African CFA franc (XAF)</td>\n",
       "      <td>French</td>\n",
       "    </tr>\n",
       "    <tr>\n",
       "      <th>12</th>\n",
       "      <td>Côte d’Ivoire (Ivory Coast)</td>\n",
       "      <td>Yamoussoukro (official),Abidjan (seat of gover...</td>\n",
       "      <td>Eco</td>\n",
       "      <td>French</td>\n",
       "    </tr>\n",
       "    <tr>\n",
       "      <th>13</th>\n",
       "      <td>Democratic Republic of the Congo (Congo-Kinshasa)</td>\n",
       "      <td>Kinshasa</td>\n",
       "      <td>Congolese franc(CDF)</td>\n",
       "      <td>French</td>\n",
       "    </tr>\n",
       "    <tr>\n",
       "      <th>14</th>\n",
       "      <td>Djibouti</td>\n",
       "      <td>Djibouti</td>\n",
       "      <td>Djiboutian franc(DJF)</td>\n",
       "      <td>French, Arabic</td>\n",
       "    </tr>\n",
       "    <tr>\n",
       "      <th>15</th>\n",
       "      <td>Egypt</td>\n",
       "      <td>Cairo</td>\n",
       "      <td>Egyptian pound(EGP)</td>\n",
       "      <td>Arabic</td>\n",
       "    </tr>\n",
       "    <tr>\n",
       "      <th>16</th>\n",
       "      <td>Equatorial Guinea</td>\n",
       "      <td>Malabo</td>\n",
       "      <td>Central African CFA franc (XAF)</td>\n",
       "      <td>Spanish, French, Portuguese</td>\n",
       "    </tr>\n",
       "    <tr>\n",
       "      <th>17</th>\n",
       "      <td>Eritrea</td>\n",
       "      <td>Asmara</td>\n",
       "      <td>Eritrean nakfa (ERN)</td>\n",
       "      <td>Tigrinya, Arabic, English</td>\n",
       "    </tr>\n",
       "    <tr>\n",
       "      <th>18</th>\n",
       "      <td>Ethiopia</td>\n",
       "      <td>Addis Ababa</td>\n",
       "      <td>Ethiopian birr (ETB)</td>\n",
       "      <td>Amharic</td>\n",
       "    </tr>\n",
       "    <tr>\n",
       "      <th>19</th>\n",
       "      <td>Gabon</td>\n",
       "      <td>Libreville</td>\n",
       "      <td>Central African CFA franc (XAF)</td>\n",
       "      <td>French</td>\n",
       "    </tr>\n",
       "  </tbody>\n",
       "</table>\n",
       "</div>"
      ],
      "text/plain": [
       "                                              Country  \\\n",
       "0                                             Algeria   \n",
       "1                                              Angola   \n",
       "2                                               Benin   \n",
       "3                                            Botswana   \n",
       "4                                        Burkina Faso   \n",
       "5                                             Burundi   \n",
       "6                                            Cameroon   \n",
       "7                                          Cape Verde   \n",
       "8                            Central African Republic   \n",
       "9                                                Chad   \n",
       "10                                            Comoros   \n",
       "11                          Congo (Congo-Brazzaville)   \n",
       "12                        Côte d’Ivoire (Ivory Coast)   \n",
       "13  Democratic Republic of the Congo (Congo-Kinshasa)   \n",
       "14                                           Djibouti   \n",
       "15                                              Egypt   \n",
       "16                                  Equatorial Guinea   \n",
       "17                                            Eritrea   \n",
       "18                                           Ethiopia   \n",
       "19                                              Gabon   \n",
       "\n",
       "                                              Capital  \\\n",
       "0                                              Agiers   \n",
       "1                                              Luanda   \n",
       "2                               Porto-Novo (official)   \n",
       "3                                            Gaborone   \n",
       "4                                         Ouagadougou   \n",
       "5                                           Bujumbura   \n",
       "6                                             Yaoundé   \n",
       "7                                               Praia   \n",
       "8                                              Bangui   \n",
       "9                                           N’Djamena   \n",
       "10                                             Moroni   \n",
       "11                                        Brazzaville   \n",
       "12  Yamoussoukro (official),Abidjan (seat of gover...   \n",
       "13                                           Kinshasa   \n",
       "14                                           Djibouti   \n",
       "15                                              Cairo   \n",
       "16                                             Malabo   \n",
       "17                                             Asmara   \n",
       "18                                        Addis Ababa   \n",
       "19                                         Libreville   \n",
       "\n",
       "                           Currency                     Language  \n",
       "0              Algerian dinar (DZD)                       Arabic  \n",
       "1                       Kwanza(AOA)                   Portuguese  \n",
       "2                               Eco                       French  \n",
       "3                         Pula(BWP)            English, Setswana  \n",
       "4                               Eco                       French  \n",
       "5              Burundian franc(BIF)              Kirundi, French  \n",
       "6     Central AfricanCFA franc(XAF)              French, English  \n",
       "7          Cape Verdean escudo(CVE)                   Portuguese  \n",
       "8   Central African CFA franc (XAF)                French, Sango  \n",
       "9    Central African CFA franc(XAF)               French, Arabic  \n",
       "10              Comorian franc(KMF)     Comorian, Arabic, French  \n",
       "11  Central African CFA franc (XAF)                       French  \n",
       "12                              Eco                       French  \n",
       "13             Congolese franc(CDF)                       French  \n",
       "14            Djiboutian franc(DJF)               French, Arabic  \n",
       "15              Egyptian pound(EGP)                       Arabic  \n",
       "16  Central African CFA franc (XAF)  Spanish, French, Portuguese  \n",
       "17             Eritrean nakfa (ERN)    Tigrinya, Arabic, English  \n",
       "18             Ethiopian birr (ETB)                      Amharic  \n",
       "19  Central African CFA franc (XAF)                       French  "
      ]
     },
     "execution_count": 7,
     "metadata": {},
     "output_type": "execute_result"
    }
   ],
   "source": [
    "df.head(20)"
   ]
  },
  {
   "cell_type": "markdown",
   "metadata": {},
   "source": [
    "## save data "
   ]
  },
  {
   "cell_type": "code",
   "execution_count": 8,
   "metadata": {},
   "outputs": [],
   "source": [
    "df.to_csv('Africa.csv', index=False)"
   ]
  },
  {
   "cell_type": "code",
   "execution_count": null,
   "metadata": {},
   "outputs": [],
   "source": []
  }
 ],
 "metadata": {
  "kernelspec": {
   "display_name": "Python 3",
   "language": "python",
   "name": "python3"
  },
  "language_info": {
   "codemirror_mode": {
    "name": "ipython",
    "version": 3
   },
   "file_extension": ".py",
   "mimetype": "text/x-python",
   "name": "python",
   "nbconvert_exporter": "python",
   "pygments_lexer": "ipython3",
   "version": "3.6.9"
  }
 },
 "nbformat": 4,
 "nbformat_minor": 4
}
